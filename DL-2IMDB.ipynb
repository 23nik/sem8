{
 "cells": [
  {
   "cell_type": "code",
   "execution_count": 1,
   "id": "75327e30",
   "metadata": {},
   "outputs": [],
   "source": [
    "from tensorflow.keras.datasets import imdb\n"
   ]
  },
  {
   "cell_type": "code",
   "execution_count": 2,
   "id": "20dabba7",
   "metadata": {},
   "outputs": [],
   "source": [
    "(train_data, train_label), (test_data, test_label) = imdb.load_data(num_words = 10000)\n"
   ]
  },
  {
   "cell_type": "code",
   "execution_count": 3,
   "id": "3d5c399b",
   "metadata": {},
   "outputs": [],
   "source": [
    "import numpy as np\n",
    "\n",
    "def vectorize_sequences(sequences, dimensions = 10000):\n",
    "  results = np.zeros((len(sequences), dimensions))\n",
    "  for i,sequences in enumerate(sequences):\n",
    "    results[i, sequences] = 1\n",
    "  return results\n",
    "\n",
    "x_train = vectorize_sequences(train_data)\n",
    "y_train = vectorize_sequences(test_data)\n",
    "     "
   ]
  },
  {
   "cell_type": "code",
   "execution_count": 4,
   "id": "99277a30",
   "metadata": {},
   "outputs": [],
   "source": [
    "y_train = np.asarray(train_label).astype('float32')\n",
    "y_test = np.asarray(test_label).astype('float32')"
   ]
  },
  {
   "cell_type": "code",
   "execution_count": 5,
   "id": "b120149a",
   "metadata": {},
   "outputs": [],
   "source": [
    "from tensorflow.keras.models import Sequential\n",
    "from tensorflow.keras.layers import Dense\n",
    "model = Sequential()\n",
    "model.add(Dense(16, input_shape=(10000, ), activation = \"relu\"))\n",
    "model.add(Dense(16, activation = \"relu\"))\n",
    "model.add(Dense(1, activation = \"sigmoid\"))"
   ]
  },
  {
   "cell_type": "code",
   "execution_count": 6,
   "id": "72288623",
   "metadata": {},
   "outputs": [],
   "source": [
    "model.compile(optimizer='adam', loss = 'mse', metrics = ['accuracy'])\n"
   ]
  },
  {
   "cell_type": "code",
   "execution_count": 7,
   "id": "0ac1d6d6",
   "metadata": {},
   "outputs": [
    {
     "name": "stdout",
     "output_type": "stream",
     "text": [
      "Model: \"sequential\"\n",
      "_________________________________________________________________\n",
      " Layer (type)                Output Shape              Param #   \n",
      "=================================================================\n",
      " dense (Dense)               (None, 16)                160016    \n",
      "                                                                 \n",
      " dense_1 (Dense)             (None, 16)                272       \n",
      "                                                                 \n",
      " dense_2 (Dense)             (None, 1)                 17        \n",
      "                                                                 \n",
      "=================================================================\n",
      "Total params: 160,305\n",
      "Trainable params: 160,305\n",
      "Non-trainable params: 0\n",
      "_________________________________________________________________\n"
     ]
    }
   ],
   "source": [
    "model.summary()\n"
   ]
  },
  {
   "cell_type": "code",
   "execution_count": 8,
   "id": "da05767c",
   "metadata": {},
   "outputs": [
    {
     "name": "stdout",
     "output_type": "stream",
     "text": [
      "Epoch 1/20\n",
      "35/35 [==============================] - 9s 184ms/step - loss: 0.1685 - accuracy: 0.7954 - val_loss: 0.1040 - val_accuracy: 0.8776\n",
      "Epoch 2/20\n",
      "35/35 [==============================] - 2s 44ms/step - loss: 0.0759 - accuracy: 0.9151 - val_loss: 0.0837 - val_accuracy: 0.8925\n",
      "Epoch 3/20\n",
      "35/35 [==============================] - 1s 35ms/step - loss: 0.0526 - accuracy: 0.9429 - val_loss: 0.0816 - val_accuracy: 0.8920\n",
      "Epoch 4/20\n",
      "35/35 [==============================] - 2s 43ms/step - loss: 0.0399 - accuracy: 0.9587 - val_loss: 0.0816 - val_accuracy: 0.8905\n",
      "Epoch 5/20\n",
      "35/35 [==============================] - 1s 40ms/step - loss: 0.0308 - accuracy: 0.9707 - val_loss: 0.0839 - val_accuracy: 0.8876\n",
      "Epoch 6/20\n",
      "35/35 [==============================] - 2s 65ms/step - loss: 0.0241 - accuracy: 0.9794 - val_loss: 0.0865 - val_accuracy: 0.8859\n",
      "Epoch 7/20\n",
      "35/35 [==============================] - 2s 45ms/step - loss: 0.0195 - accuracy: 0.9844 - val_loss: 0.0895 - val_accuracy: 0.8840\n",
      "Epoch 8/20\n",
      "35/35 [==============================] - 2s 48ms/step - loss: 0.0159 - accuracy: 0.9881 - val_loss: 0.0924 - val_accuracy: 0.8801\n",
      "Epoch 9/20\n",
      "35/35 [==============================] - 1s 41ms/step - loss: 0.0130 - accuracy: 0.9907 - val_loss: 0.0955 - val_accuracy: 0.8739\n",
      "Epoch 10/20\n",
      "35/35 [==============================] - 2s 48ms/step - loss: 0.0108 - accuracy: 0.9922 - val_loss: 0.0973 - val_accuracy: 0.8745\n",
      "Epoch 11/20\n",
      "35/35 [==============================] - 2s 61ms/step - loss: 0.0091 - accuracy: 0.9934 - val_loss: 0.0987 - val_accuracy: 0.8727\n",
      "Epoch 12/20\n",
      "35/35 [==============================] - 1s 41ms/step - loss: 0.0079 - accuracy: 0.9942 - val_loss: 0.1003 - val_accuracy: 0.8729\n",
      "Epoch 13/20\n",
      "35/35 [==============================] - 2s 48ms/step - loss: 0.0071 - accuracy: 0.9947 - val_loss: 0.1016 - val_accuracy: 0.8716\n",
      "Epoch 14/20\n",
      "35/35 [==============================] - 1s 37ms/step - loss: 0.0065 - accuracy: 0.9949 - val_loss: 0.1027 - val_accuracy: 0.8708\n",
      "Epoch 15/20\n",
      "35/35 [==============================] - 1s 33ms/step - loss: 0.0061 - accuracy: 0.9950 - val_loss: 0.1039 - val_accuracy: 0.8704\n",
      "Epoch 16/20\n",
      "35/35 [==============================] - 1s 42ms/step - loss: 0.0058 - accuracy: 0.9951 - val_loss: 0.1050 - val_accuracy: 0.8688\n",
      "Epoch 17/20\n",
      "35/35 [==============================] - 1s 42ms/step - loss: 0.0055 - accuracy: 0.9953 - val_loss: 0.1057 - val_accuracy: 0.8691\n",
      "Epoch 18/20\n",
      "35/35 [==============================] - 1s 36ms/step - loss: 0.0054 - accuracy: 0.9953 - val_loss: 0.1063 - val_accuracy: 0.8684\n",
      "Epoch 19/20\n",
      "35/35 [==============================] - 1s 42ms/step - loss: 0.0051 - accuracy: 0.9954 - val_loss: 0.1069 - val_accuracy: 0.8684\n",
      "Epoch 20/20\n",
      "35/35 [==============================] - 1s 40ms/step - loss: 0.0050 - accuracy: 0.9955 - val_loss: 0.1075 - val_accuracy: 0.8676\n"
     ]
    }
   ],
   "source": [
    "history = model.fit(x_train, y_train, validation_split = 0.3, epochs = 20, verbose = 1, batch_size = 512)\n"
   ]
  },
  {
   "cell_type": "code",
   "execution_count": null,
   "id": "35db54e1",
   "metadata": {},
   "outputs": [],
   "source": []
  },
  {
   "cell_type": "code",
   "execution_count": null,
   "id": "ca446c94",
   "metadata": {},
   "outputs": [],
   "source": []
  },
  {
   "cell_type": "code",
   "execution_count": null,
   "id": "e94fbd46",
   "metadata": {},
   "outputs": [],
   "source": []
  },
  {
   "cell_type": "code",
   "execution_count": null,
   "id": "b296fd4b",
   "metadata": {},
   "outputs": [],
   "source": []
  },
  {
   "cell_type": "code",
   "execution_count": null,
   "id": "cc342424",
   "metadata": {},
   "outputs": [],
   "source": []
  }
 ],
 "metadata": {
  "kernelspec": {
   "display_name": "Python 3 (ipykernel)",
   "language": "python",
   "name": "python3"
  },
  "language_info": {
   "codemirror_mode": {
    "name": "ipython",
    "version": 3
   },
   "file_extension": ".py",
   "mimetype": "text/x-python",
   "name": "python",
   "nbconvert_exporter": "python",
   "pygments_lexer": "ipython3",
   "version": "3.9.7"
  }
 },
 "nbformat": 4,
 "nbformat_minor": 5
}
